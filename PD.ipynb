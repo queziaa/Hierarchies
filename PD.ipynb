{
 "cells": [
  {
   "cell_type": "code",
   "execution_count": null,
   "metadata": {},
   "outputs": [],
   "source": [
    "https://github.com/baixf-xyz/bp-?tab=readme-ov-file\n",
    "https://zhuanlan.zhihu.com/p/411997259\n",
    "https://www.cnblogs.com/pinard/p/10773942.html\n",
    "import numpy as np\n",
    "\n",
    "def sigmoid(x):\n",
    "    return 1 / (1 + np.exp(-x))\n",
    "\n",
    "def sigmoid_derivative(x):\n",
    "    return x * (1 - x)\n",
    "# ********************\n",
    "input_size = 0\n",
    "y = 0\n",
    "hidden_size = 0\n",
    "output_size = 0\n",
    "learning_rate = 0\n",
    "# ********************\n",
    "\n",
    "\n",
    "# 初始化权重和偏置\n",
    "W1 = np.random.randn(input_size, hidden_size)\n",
    "b1 = np.zeros(hidden_size)\n",
    "W2 = np.random.randn(hidden_size, output_size)\n",
    "b2 = np.zeros(output_size)\n",
    "\n",
    "# 前向传播\n",
    "hidden = sigmoid(np.dot(X, W1) + b1)\n",
    "output = sigmoid(np.dot(hidden, W2) + b2)\n",
    "\n",
    "# 反向传播\n",
    "delta_output = (y - output) * sigmoid_derivative(output)\n",
    "delta_hidden = np.dot(delta_output, W2.T) * sigmoid_derivative(hidden)\n",
    "\n",
    "# 更新权重和偏置\n",
    "W2 += learning_rate * np.dot(hidden.T, delta_output)\n",
    "b2 += learning_rate * np.sum(delta_output, axis=0)\n",
    "W1 += learning_rate * np.dot(X.T, delta_hidden)\n",
    "b1 += learning_rate * np.sum(delta_hidden, axis=0)\n",
    "\n"
   ]
  }
 ],
 "metadata": {
  "language_info": {
   "name": "python"
  }
 },
 "nbformat": 4,
 "nbformat_minor": 2
}
