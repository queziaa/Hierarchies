{
 "cells": [
  {
   "cell_type": "code",
   "execution_count": 2,
   "metadata": {},
   "outputs": [
    {
     "name": "stderr",
     "output_type": "stream",
     "text": [
      "c:\\Users\\quezi\\.conda\\envs\\weibodatacleaning\\lib\\site-packages\\tqdm\\auto.py:21: TqdmWarning: IProgress not found. Please update jupyter and ipywidgets. See https://ipywidgets.readthedocs.io/en/stable/user_install.html\n",
      "  from .autonotebook import tqdm as notebook_tqdm\n"
     ]
    }
   ],
   "source": [
    "# https://huggingface.co/intfloat/multilingual-e5-large/tree/main#/\n",
    "import os\n",
    "# OMP: Error #15: Initializing libiomp5md.dll, but found libiomp5md.dll already initialized.\n",
    "os.environ['KMP_DUPLICATE_LIB_OK']='True'\n",
    "\n",
    "import torch.nn.functional as F\n",
    "\n",
    "import numpy as np\n",
    "from torch import Tensor\n",
    "from transformers import AutoTokenizer, AutoModel\n",
    "\n",
    "\n",
    "def average_pool(last_hidden_states: Tensor,\n",
    "                 attention_mask: Tensor) -> Tensor:\n",
    "    last_hidden = last_hidden_states.masked_fill(~attention_mask[..., None].bool(), 0.0)\n",
    "    return last_hidden.sum(dim=1) / attention_mask.sum(dim=1)[..., None]\n",
    "\n",
    "# 将“query：”和“passage：”对非对称任务相应地使用，例如开放式QA中的段落检索、临时信息检索。\n",
    "# 对称任务使用“query：”前缀，例如语义相似性、双文本挖掘、释义检索。\n",
    "# 如果要将嵌入用作特征，请使用“query：”前缀，例如线性探测分类、聚类。\n",
    "# Each input text should start with \"query: \" or \"passage: \", even for non-English texts.\n",
    "# For tasks other than retrieval, you can simply use the \"query: \" prefix.\n",
    "input_texts = ['先生',\n",
    "               \"男人\",\n",
    "               \"父亲\",\n",
    "               \"男\",\n",
    "               \"帅哥\",\n",
    "               \"小伙\",\n",
    "\n",
    "               \n",
    "                '女士',\n",
    "               \"女人\",\n",
    "                \"母亲 \",\n",
    "               \"女\",\n",
    "               \"美女\",\n",
    "               \"姑娘\"\n",
    "\n",
    "\n",
    "               ]\n",
    "\n",
    "\n",
    "tokenizer = AutoTokenizer.from_pretrained('intfloat/multilingual-e5-large')\n",
    "model = AutoModel.from_pretrained('intfloat/multilingual-e5-large')\n",
    "\n",
    "# Tokenize the input texts\n",
    "batch_dict = tokenizer(input_texts, max_length=512, padding=True, truncation=True, return_tensors='pt')\n",
    "\n",
    "outputs = model(**batch_dict)\n",
    "embeddings = average_pool(outputs.last_hidden_state, batch_dict['attention_mask'])\n",
    "\n",
    "# normalize embeddings\n",
    "embeddings = F.normalize(embeddings, p=2, dim=1)\n",
    "\n",
    "\n"
   ]
  },
  {
   "cell_type": "code",
   "execution_count": 2,
   "metadata": {},
   "outputs": [
    {
     "ename": "NameError",
     "evalue": "name 'plt_seaborn' is not defined",
     "output_type": "error",
     "traceback": [
      "\u001b[1;31m---------------------------------------------------------------------------\u001b[0m",
      "\u001b[1;31mNameError\u001b[0m                                 Traceback (most recent call last)",
      "Cell \u001b[1;32mIn[2], line 2\u001b[0m\n\u001b[0;32m      1\u001b[0m \u001b[38;5;28;01mimport\u001b[39;00m \u001b[38;5;21;01mHlib\u001b[39;00m\n\u001b[1;32m----> 2\u001b[0m out,nonSample,trSample \u001b[38;5;241m=\u001b[39m \u001b[43mplt_seaborn\u001b[49m(embeddings,\u001b[38;5;241m6\u001b[39m)\n\u001b[0;32m      4\u001b[0m ordered_positions \u001b[38;5;241m=\u001b[39m find_ordered_positions(nonSample, trSample)\n\u001b[0;32m      6\u001b[0m \u001b[38;5;28mprint\u001b[39m(ordered_positions)\n",
      "\u001b[1;31mNameError\u001b[0m: name 'plt_seaborn' is not defined"
     ]
    }
   ],
   "source": [
    "import Hlib\n",
    "out,nonSample,trSample = Hlib.plt_seaborn(embeddings,6)\n",
    "\n",
    "ordered_positions = Hlib.find_ordered_positions(nonSample, trSample)\n",
    "\n",
    "print(ordered_positions)\n"
   ]
  }
 ],
 "metadata": {
  "kernelspec": {
   "display_name": "weibodatacleaning",
   "language": "python",
   "name": "python3"
  },
  "language_info": {
   "codemirror_mode": {
    "name": "ipython",
    "version": 3
   },
   "file_extension": ".py",
   "mimetype": "text/x-python",
   "name": "python",
   "nbconvert_exporter": "python",
   "pygments_lexer": "ipython3",
   "version": "3.10.13"
  }
 },
 "nbformat": 4,
 "nbformat_minor": 2
}
