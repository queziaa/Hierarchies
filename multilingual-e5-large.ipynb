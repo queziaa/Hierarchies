{
 "cells": [
  {
   "cell_type": "code",
   "execution_count": 4,
   "metadata": {},
   "outputs": [],
   "source": [
    "# https://huggingface.co/intfloat/multilingual-e5-large/tree/main#/\n",
    "import os\n",
    "# OMP: Error #15: Initializing libiomp5md.dll, but found libiomp5md.dll already initialized.\n",
    "os.environ['KMP_DUPLICATE_LIB_OK']='True'\n",
    "\n",
    "import torch.nn.functional as F\n",
    "\n",
    "import numpy as np\n",
    "from torch import Tensor\n",
    "from transformers import AutoTokenizer, AutoModel\n",
    "\n",
    "\n",
    "\n",
    "\n",
    "# 将“query：”和“passage：”对非对称任务相应地使用，例如开放式QA中的段落检索、临时信息检索。\n",
    "# 对称任务使用“query：”前缀，例如语义相似性、双文本挖掘、释义检索。\n",
    "# 如果要将嵌入用作特征，请使用“query：”前缀，例如线性探测分类、聚类。\n",
    "# Each input text should start with \"query: \" or \"passage: \", even for non-English texts.\n",
    "# For tasks other than retrieval, you can simply use the \"query: \" prefix.\n",
    "input_texts = [\n",
    "    # '先生',\"男人\",\"父亲\",\n",
    "#  '女士',\"女人\", \"母亲 \"\n",
    "\n",
    "\n",
    "    # '先生',\"男人\",\"父亲\",\"男\",\"帅哥\",\"小伙\",\n",
    "#  '女士',\"女人\", \"母亲 \",\"女\",\"美女\",\"姑娘\"\n",
    "\"男孩\",\"爸爸\",\"皇帝\",\"父亲\",\"爷爷\",\"孙子\",\"新郎\",\"丈夫\",\"男人\",\"侄子\",\"王子\",\"儿子\",\"继父\",\"叔叔\", \n",
    "\"女孩\",\"妈妈\",\"皇后\",\"母亲\",\"奶奶\",\"孙女\",\"新娘\",\"妻子\",\"女人\",\"侄女\",\"公主\",\"女儿\",\"继母\",\"阿姨\"\n",
    "]\n",
    "\n",
    "\n",
    "tokenizer = AutoTokenizer.from_pretrained('intfloat/multilingual-e5-large')\n",
    "model = AutoModel.from_pretrained('intfloat/multilingual-e5-large')\n",
    "\n",
    "# Tokenize the input texts\n",
    "batch_dict = tokenizer(input_texts, max_length=512, padding=True, truncation=True, return_tensors='pt')\n",
    "# batch_dict.keys()  dict_keys(['input_ids', 'attention_mask'])\n",
    "# batch_dict['input_ids'].shape  torch.Size([46, 5])\n",
    "# batch_dict['attention_mask'].shape  # torch.Size([46, 5])\n",
    "# tensor([[     0,      6,  72853,      2,      1],\n",
    "#         [     0,      6,  49790,      2,      1],\n",
    "#         [     0,      6,  35023,      2,      1],\n",
    "#         [     0,      6, 180883,      2,      1],\n",
    "# batch_dict['attention_mask']\n",
    "# tensor([[1, 1, 1, 1, 0],\n",
    "#         [1, 1, 1, 1, 0],\n",
    "\n",
    "outputs = model(**batch_dict)\n",
    "\n",
    "def average_pool(last_hidden_states: Tensor, attention_mask: Tensor) -> Tensor:\n",
    "    last_hidden = last_hidden_states.masked_fill(~attention_mask[..., None].bool(), 0.0)\n",
    "    return last_hidden.sum(dim=1) / attention_mask.sum(dim=1)[..., None]\n",
    "embeddings = average_pool(outputs.last_hidden_state, batch_dict['attention_mask'])\n",
    "\n",
    "# normalize embeddings\n",
    "embeddings = F.normalize(embeddings, p=2, dim=1)  #torch.Size([40, 1024])\n",
    "\n",
    "#保存 embeddings\n",
    "np.save('embeddings.npy', embeddings.cpu().detach().numpy())"
   ]
  },
  {
   "cell_type": "code",
   "execution_count": 3,
   "metadata": {},
   "outputs": [
    {
     "name": "stdout",
     "output_type": "stream",
     "text": [
      "*************************************mode: Diff Dist\n"
     ]
    },
    {
     "name": "stderr",
     "output_type": "stream",
     "text": [
      "  0%|          | 0/196 [00:00<?, ?it/s]"
     ]
    },
    {
     "name": "stderr",
     "output_type": "stream",
     "text": [
      "100%|██████████| 196/196 [00:03<00:00, 59.16it/s]\n"
     ]
    },
    {
     "name": "stdout",
     "output_type": "stream",
     "text": [
      "2085\n",
      "*************************************mode: Diff CosSimilarity\n"
     ]
    },
    {
     "name": "stderr",
     "output_type": "stream",
     "text": [
      "100%|██████████| 196/196 [00:04<00:00, 43.30it/s]\n"
     ]
    },
    {
     "name": "stdout",
     "output_type": "stream",
     "text": [
      "411912\n",
      "*************************************mode: Diff JaccardSimilarity\n"
     ]
    },
    {
     "name": "stderr",
     "output_type": "stream",
     "text": [
      "100%|██████████| 196/196 [00:41<00:00,  4.78it/s]\n"
     ]
    },
    {
     "name": "stdout",
     "output_type": "stream",
     "text": [
      "-1953\n",
      "*************************************mode: Diff Dot\n"
     ]
    },
    {
     "name": "stderr",
     "output_type": "stream",
     "text": [
      "100%|██████████| 196/196 [00:02<00:00, 86.65it/s]\n"
     ]
    },
    {
     "name": "stdout",
     "output_type": "stream",
     "text": [
      "7299\n",
      "*************************************mode: Diff Diffnorm\n"
     ]
    },
    {
     "name": "stderr",
     "output_type": "stream",
     "text": [
      "100%|██████████| 196/196 [00:03<00:00, 50.51it/s]\n"
     ]
    },
    {
     "name": "stdout",
     "output_type": "stream",
     "text": [
      "2085\n",
      "*************************************mode: Diff HyperScore\n"
     ]
    },
    {
     "name": "stderr",
     "output_type": "stream",
     "text": [
      "100%|██████████| 196/196 [00:04<00:00, 41.52it/s]\n"
     ]
    },
    {
     "name": "stdout",
     "output_type": "stream",
     "text": [
      "1012720\n",
      "*************************************mode: Diff HyperScore2\n"
     ]
    },
    {
     "name": "stderr",
     "output_type": "stream",
     "text": [
      "100%|██████████| 196/196 [00:08<00:00, 22.54it/s]\n"
     ]
    },
    {
     "name": "stdout",
     "output_type": "stream",
     "text": [
      "273369\n",
      "*************************************mode: connect_1 Dist\n"
     ]
    },
    {
     "name": "stderr",
     "output_type": "stream",
     "text": [
      "100%|██████████| 196/196 [00:03<00:00, 51.28it/s]\n"
     ]
    },
    {
     "name": "stdout",
     "output_type": "stream",
     "text": [
      "381433\n",
      "*************************************mode: connect_1 CosSimilarity\n"
     ]
    },
    {
     "name": "stderr",
     "output_type": "stream",
     "text": [
      "100%|██████████| 196/196 [00:04<00:00, 39.86it/s]\n"
     ]
    },
    {
     "name": "stdout",
     "output_type": "stream",
     "text": [
      "297384\n",
      "*************************************mode: connect_1 JaccardSimilarity\n"
     ]
    },
    {
     "name": "stderr",
     "output_type": "stream",
     "text": [
      "100%|██████████| 196/196 [01:32<00:00,  2.13it/s]\n"
     ]
    },
    {
     "name": "stdout",
     "output_type": "stream",
     "text": [
      "-1953\n",
      "*************************************mode: connect_1 Dot\n"
     ]
    },
    {
     "name": "stderr",
     "output_type": "stream",
     "text": [
      "100%|██████████| 196/196 [00:02<00:00, 76.94it/s]\n"
     ]
    },
    {
     "name": "stdout",
     "output_type": "stream",
     "text": [
      "297363\n",
      "*************************************mode: connect_1 Diffnorm\n"
     ]
    },
    {
     "name": "stderr",
     "output_type": "stream",
     "text": [
      "100%|██████████| 196/196 [00:04<00:00, 47.07it/s]\n"
     ]
    },
    {
     "name": "stdout",
     "output_type": "stream",
     "text": [
      "381433\n",
      "*************************************mode: connect_1 HyperScore\n"
     ]
    },
    {
     "name": "stderr",
     "output_type": "stream",
     "text": [
      "100%|██████████| 196/196 [00:04<00:00, 39.78it/s]\n"
     ]
    },
    {
     "name": "stdout",
     "output_type": "stream",
     "text": [
      "381431\n",
      "*************************************mode: connect_1 HyperScore2\n"
     ]
    },
    {
     "name": "stderr",
     "output_type": "stream",
     "text": [
      "100%|██████████| 196/196 [00:09<00:00, 21.63it/s]\n"
     ]
    },
    {
     "name": "stdout",
     "output_type": "stream",
     "text": [
      "297387\n",
      "*************************************mode: connect_2 Dist\n"
     ]
    },
    {
     "name": "stderr",
     "output_type": "stream",
     "text": [
      "100%|██████████| 196/196 [00:03<00:00, 51.93it/s]\n"
     ]
    },
    {
     "name": "stdout",
     "output_type": "stream",
     "text": [
      "381433\n",
      "*************************************mode: connect_2 CosSimilarity\n"
     ]
    },
    {
     "name": "stderr",
     "output_type": "stream",
     "text": [
      "100%|██████████| 196/196 [00:06<00:00, 28.78it/s]\n"
     ]
    },
    {
     "name": "stdout",
     "output_type": "stream",
     "text": [
      "297369\n",
      "*************************************mode: connect_2 JaccardSimilarity\n"
     ]
    },
    {
     "name": "stderr",
     "output_type": "stream",
     "text": [
      "100%|██████████| 196/196 [01:32<00:00,  2.12it/s]\n"
     ]
    },
    {
     "name": "stdout",
     "output_type": "stream",
     "text": [
      "-1953\n",
      "*************************************mode: connect_2 Dot\n"
     ]
    },
    {
     "name": "stderr",
     "output_type": "stream",
     "text": [
      "100%|██████████| 196/196 [00:02<00:00, 76.13it/s]\n"
     ]
    },
    {
     "name": "stdout",
     "output_type": "stream",
     "text": [
      "297365\n",
      "*************************************mode: connect_2 Diffnorm\n"
     ]
    },
    {
     "name": "stderr",
     "output_type": "stream",
     "text": [
      "100%|██████████| 196/196 [00:04<00:00, 47.34it/s]\n"
     ]
    },
    {
     "name": "stdout",
     "output_type": "stream",
     "text": [
      "381433\n",
      "*************************************mode: connect_2 HyperScore\n"
     ]
    },
    {
     "name": "stderr",
     "output_type": "stream",
     "text": [
      "100%|██████████| 196/196 [00:05<00:00, 38.91it/s]\n"
     ]
    },
    {
     "name": "stdout",
     "output_type": "stream",
     "text": [
      "381427\n",
      "*************************************mode: connect_2 HyperScore2\n"
     ]
    },
    {
     "name": "stderr",
     "output_type": "stream",
     "text": [
      "100%|██████████| 196/196 [00:11<00:00, 17.64it/s]\n"
     ]
    },
    {
     "name": "stdout",
     "output_type": "stream",
     "text": [
      "297377\n",
      "*************************************mode: connect_3 Dist\n"
     ]
    },
    {
     "name": "stderr",
     "output_type": "stream",
     "text": [
      "100%|██████████| 196/196 [00:03<00:00, 52.44it/s]\n"
     ]
    },
    {
     "name": "stdout",
     "output_type": "stream",
     "text": [
      "381433\n",
      "*************************************mode: connect_3 CosSimilarity\n"
     ]
    },
    {
     "name": "stderr",
     "output_type": "stream",
     "text": [
      "100%|██████████| 196/196 [00:23<00:00,  8.30it/s]\n"
     ]
    },
    {
     "name": "stdout",
     "output_type": "stream",
     "text": [
      "970729\n",
      "*************************************mode: connect_3 JaccardSimilarity\n"
     ]
    },
    {
     "name": "stderr",
     "output_type": "stream",
     "text": [
      "100%|██████████| 196/196 [01:32<00:00,  2.13it/s]\n"
     ]
    },
    {
     "name": "stdout",
     "output_type": "stream",
     "text": [
      "-1953\n",
      "*************************************mode: connect_3 Dot\n"
     ]
    },
    {
     "name": "stderr",
     "output_type": "stream",
     "text": [
      "100%|██████████| 196/196 [00:02<00:00, 73.17it/s]\n"
     ]
    },
    {
     "name": "stdout",
     "output_type": "stream",
     "text": [
      "297363\n",
      "*************************************mode: connect_3 Diffnorm\n"
     ]
    },
    {
     "name": "stderr",
     "output_type": "stream",
     "text": [
      "100%|██████████| 196/196 [00:04<00:00, 46.81it/s]\n"
     ]
    },
    {
     "name": "stdout",
     "output_type": "stream",
     "text": [
      "381433\n",
      "*************************************mode: connect_3 HyperScore\n"
     ]
    },
    {
     "name": "stderr",
     "output_type": "stream",
     "text": [
      "100%|██████████| 196/196 [00:05<00:00, 38.08it/s]\n"
     ]
    },
    {
     "name": "stdout",
     "output_type": "stream",
     "text": [
      "381431\n",
      "*************************************mode: connect_3 HyperScore2\n"
     ]
    },
    {
     "name": "stderr",
     "output_type": "stream",
     "text": [
      " 42%|████▏     | 83/196 [00:12<00:16,  7.06it/s]"
     ]
    }
   ],
   "source": [
    "# 读取 \n",
    "import Hlib\n",
    "import numpy as np\n",
    "import torch\n",
    "embeddings = np.load('embeddings.npy')\n",
    "# 转为 tensor\n",
    "embeddings = torch.tensor(embeddings)\n",
    "\n",
    "for i,j in Hlib.vector_modes.items():\n",
    "    for ii,jj in Hlib.diff_modes.items():\n",
    "        if i== \"Cross\" and ii == \"JaccardSimilarity\":\n",
    "            continue\n",
    "        out,nonSample,trSample = Hlib.plt_seaborn(embeddings,i,ii,isplt = False,Absolute=False,reversal = True,mulmermod = 1)\n",
    "\n",
    "        a,b = Hlib.find_ordered_positions(nonSample, trSample)\n",
    "        # 只保留数组b，长度的前70%个元素\n",
    "        b = b[:int(len(b)*0.7)]\n",
    "        # 求和\n",
    "        print(sum(b))\n",
    "\n",
    "print(\"##############################################\")\n",
    "\n",
    "for i,j in Hlib.vector_modes.items():\n",
    "    for ii,jj in Hlib.diff_modes.items():\n",
    "        if i== \"Cross\" and ii == \"JaccardSimilarity\":\n",
    "            continue\n",
    "        out,nonSample,trSample = Hlib.plt_seaborn(embeddings,i,ii,isplt = False,Absolute=False,reversal = False,mulmermod = 2)\n",
    "\n",
    "        a,b = Hlib.find_ordered_positions(nonSample, trSample)\n",
    "        # 只保留数组b，长度的前70%个元素\n",
    "        b = b[:int(len(b)*0.7)]\n",
    "        # 求和\n",
    "        print(sum(b))\n",
    "print(\"##############################################\")\n",
    "\n",
    "\n",
    "for i,j in Hlib.vector_modes.items():\n",
    "    for ii,jj in Hlib.diff_modes.items():\n",
    "        if i== \"Cross\" and ii == \"JaccardSimilarity\":\n",
    "            continue\n",
    "        out,nonSample,trSample = Hlib.plt_seaborn(embeddings,i,ii,isplt = False,Absolute=True,reversal = False,mulmermod = 2)\n",
    "\n",
    "        a,b = Hlib.find_ordered_positions(nonSample, trSample)\n",
    "        # 只保留数组b，长度的前70%个元素\n",
    "        b = b[:int(len(b)*0.7)]\n",
    "        # 求和\n",
    "        print(sum(b))\n",
    "\n",
    "print(\"##############################################\")\n",
    "\n",
    "for i,j in Hlib.vector_modes.items():\n",
    "    for ii,jj in Hlib.diff_modes.items():\n",
    "        if i== \"Cross\" and ii == \"JaccardSimilarity\":\n",
    "            continue\n",
    "        out,nonSample,trSample = Hlib.plt_seaborn(embeddings,i,ii,isplt = False,Absolute=False,reversal = True,mulmermod = 2)\n",
    "\n",
    "        a,b = Hlib.find_ordered_positions(nonSample, trSample)\n",
    "        # 只保留数组b，长度的前70%个元素\n",
    "        b = b[:int(len(b)*0.7)]\n",
    "        # 求和\n",
    "        print(sum(b))\n",
    "\n",
    "print(\"##############################################\")\n",
    "\n",
    "\n",
    "for i,j in Hlib.vector_modes.items():\n",
    "    for ii,jj in Hlib.diff_modes.items():\n",
    "        if i== \"Cross\" and ii == \"JaccardSimilarity\":\n",
    "            continue\n",
    "        out,nonSample,trSample = Hlib.plt_seaborn(embeddings,i,ii,isplt = False,Absolute=True,reversal = True,mulmermod = 2)\n",
    "\n",
    "        a,b = Hlib.find_ordered_positions(nonSample, trSample)\n",
    "        # 只保留数组b，长度的前70%个元素\n",
    "        b = b[:int(len(b)*0.7)]\n",
    "        # 求和\n",
    "        print(sum(b))\n",
    "\n",
    "\n",
    "\n",
    "        \n",
    "\n"
   ]
  }
 ],
 "metadata": {
  "kernelspec": {
   "display_name": "weibodatacleaning",
   "language": "python",
   "name": "python3"
  },
  "language_info": {
   "codemirror_mode": {
    "name": "ipython",
    "version": 3
   },
   "file_extension": ".py",
   "mimetype": "text/x-python",
   "name": "python",
   "nbconvert_exporter": "python",
   "pygments_lexer": "ipython3",
   "version": "3.10.13"
  }
 },
 "nbformat": 4,
 "nbformat_minor": 2
}
