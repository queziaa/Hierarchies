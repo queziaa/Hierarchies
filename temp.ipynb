{
 "cells": [
  {
   "cell_type": "code",
   "execution_count": 1,
   "metadata": {},
   "outputs": [
    {
     "name": "stdout",
     "output_type": "stream",
     "text": [
      "[1 2 3 4 5 6]\n",
      "[[1 4]\n",
      " [2 5]\n",
      " [3 6]]\n",
      "[[1 2 3]\n",
      " [4 5 6]]\n"
     ]
    }
   ],
   "source": [
    "import numpy as np\n",
    "\n",
    "def get_out(a, b):\n",
    "    return np.concatenate((a, b))\n",
    "\n",
    "def get_out2(a, b):\n",
    "    return np.array(list(zip(a, b)))\n",
    "\n",
    "def get_out3(a, b):\n",
    "    return np.array([a, b])\n",
    "\n",
    "\n",
    "\n",
    "\n",
    "\n",
    "a = np.array([1, 2, 3])\n",
    "b = np.array([4, 5, 6])\n",
    "\n",
    "print(get_out(a, b))  # 输出：[1 2 3 4 5 6]\n",
    "print(get_out2(a, b))  # 输出：[[1 4] [2 5] [3 6]]\n",
    "print(get_out3(a, b))  # 输出：[[1 2 3] [4 5 6]]"
   ]
  }
 ],
 "metadata": {
  "kernelspec": {
   "display_name": "we",
   "language": "python",
   "name": "python3"
  },
  "language_info": {
   "codemirror_mode": {
    "name": "ipython",
    "version": 3
   },
   "file_extension": ".py",
   "mimetype": "text/x-python",
   "name": "python",
   "nbconvert_exporter": "python",
   "pygments_lexer": "ipython3",
   "version": "3.8.18"
  }
 },
 "nbformat": 4,
 "nbformat_minor": 2
}
